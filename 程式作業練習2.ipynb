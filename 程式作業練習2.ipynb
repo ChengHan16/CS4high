{
  "nbformat": 4,
  "nbformat_minor": 0,
  "metadata": {
    "colab": {
      "name": "Untitled14.ipynb",
      "provenance": [],
      "include_colab_link": true
    },
    "kernelspec": {
      "name": "python3",
      "display_name": "Python 3"
    }
  },
  "cells": [
    {
      "cell_type": "markdown",
      "metadata": {
        "id": "view-in-github",
        "colab_type": "text"
      },
      "source": [
        "<a href=\"https://colab.research.google.com/github/ChengHan16/CS4high/blob/master/%E7%A8%8B%E5%BC%8F%E4%BD%9C%E6%A5%AD%E7%B7%B4%E7%BF%922.ipynb\" target=\"_parent\"><img src=\"https://colab.research.google.com/assets/colab-badge.svg\" alt=\"Open In Colab\"/></a>"
      ]
    },
    {
      "cell_type": "code",
      "metadata": {
        "id": "jwNwgilHhOve",
        "colab_type": "code",
        "colab": {
          "base_uri": "https://localhost:8080/",
          "height": 34
        },
        "outputId": "4442e7cb-d88b-48da-96de-7387ac531f89"
      },
      "source": [
        "import time\n",
        "\n",
        "date = time.localtime()\n",
        "year = date[0]\n",
        "month = date[1]\n",
        "day = date[2]\n",
        "\n",
        "day_month=[31,28,31,30,31,30,31,31,30,31,30,31]\n",
        "\n",
        "if year%400==0 or (year%4==0 and year%100!=0):\n",
        "  day_month[1]=29\n",
        "  \n",
        "if month==1:\n",
        "  print(day)\n",
        "else:\n",
        "  print(sum(day_month[:month-1])+day)\n",
        "  "
      ],
      "execution_count": 9,
      "outputs": [
        {
          "output_type": "stream",
          "text": [
            "268\n"
          ],
          "name": "stdout"
        }
      ]
    },
    {
      "cell_type": "code",
      "metadata": {
        "id": "6aVCOVRDjvDX",
        "colab_type": "code",
        "colab": {
          "base_uri": "https://localhost:8080/",
          "height": 51
        },
        "outputId": "1b2e0a6e-6cb0-4600-9b35-877ac364455d"
      },
      "source": [
        "money=int(input(\"請輸入購物金額\"))\n",
        "\n",
        "if (money>=10000):\n",
        "  \n",
        "  if(money>=100000):\n",
        "    print(money*0.8,end=\"元\\n\")\n",
        "  elif(money>=50000):\n",
        "    print(money*0.85,end=\"元\\n\")\n",
        "  elif(money>=30000):\n",
        "    print(money*0.9,end=\"元\\n\")\n",
        "  else:\n",
        "    print(money*0.95,end=\"元\\n\")\n",
        "          \n",
        "else:\n",
        "  print(money,end=\"元\\n\")"
      ],
      "execution_count": 15,
      "outputs": [
        {
          "output_type": "stream",
          "text": [
            "請輸入購物金額112500\n",
            "90000.0元\n"
          ],
          "name": "stdout"
        }
      ]
    }
  ]
}