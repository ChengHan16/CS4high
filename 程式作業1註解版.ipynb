{
  "nbformat": 4,
  "nbformat_minor": 0,
  "metadata": {
    "colab": {
      "name": "程式作業1.ipynb",
      "provenance": [],
      "collapsed_sections": [],
      "include_colab_link": true
    },
    "kernelspec": {
      "name": "python3",
      "display_name": "Python 3"
    }
  },
  "cells": [
    {
      "cell_type": "markdown",
      "metadata": {
        "id": "view-in-github",
        "colab_type": "text"
      },
      "source": [
        "<a href=\"https://colab.research.google.com/github/ChengHan16/CS4high/blob/master/%E7%A8%8B%E5%BC%8F%E4%BD%9C%E6%A5%AD1%E8%A8%BB%E8%A7%A3%E7%89%88.ipynb\" target=\"_parent\"><img src=\"https://colab.research.google.com/assets/colab-badge.svg\" alt=\"Open In Colab\"/></a>"
      ]
    },
    {
      "cell_type": "markdown",
      "metadata": {
        "id": "MCZY2TwcnReY",
        "colab_type": "text"
      },
      "source": [
        "時間練習題"
      ]
    },
    {
      "cell_type": "code",
      "metadata": {
        "id": "ulKQoudokxpb",
        "colab_type": "code",
        "outputId": "440065eb-5c78-4df7-c35d-3cd16a9da18b",
        "colab": {
          "base_uri": "https://localhost:8080/",
          "height": 35
        }
      },
      "source": [
        "import time#導入時間\n",
        "\n",
        "date = time.localtime()#取得目前日期時間\n",
        "year = date[0]\n",
        "month = date[1]\n",
        "day = date[2]\n",
        "\n",
        "day_month=[31,28,31,30,31,30,31,31,30,31,30,31]#每個月正常的天數\n",
        "\n",
        "if year%400==0 or (year%4==0 and year%100!=0):#判斷是否為閏年\n",
        "    day_month[1]=29#閏年二月多一天\n",
        "    \n",
        "if month==1:#查看今天是今年的第幾天\n",
        "  print(day)#列印出結果\n",
        "else:\n",
        "  print(sum(day_month[:month-1])+day)\n",
        "  "
      ],
      "execution_count": 0,
      "outputs": [
        {
          "output_type": "stream",
          "text": [
            "267\n"
          ],
          "name": "stdout"
        }
      ]
    },
    {
      "cell_type": "markdown",
      "metadata": {
        "id": "VnJFvDlVneeo",
        "colab_type": "text"
      },
      "source": [
        "練習題(價錢)"
      ]
    },
    {
      "cell_type": "code",
      "metadata": {
        "id": "sBwMiUImntFb",
        "colab_type": "code",
        "outputId": "ce3ae9db-ac95-4f47-da16-ae58be78cef5",
        "colab": {
          "base_uri": "https://localhost:8080/",
          "height": 51
        }
      },
      "source": [
        "money=int(input(\"請輸入購物金額\"))#輸入購物金額\n",
        "\n",
        "if(money>=10000):#金額大於10000時，之下列要求篩選\n",
        "  \n",
        "  if(money>=100000):#金額大於100000時(打八折)\n",
        "    print(money*0.8,end=\"元\\n\")#八折\n",
        "  elif(money>=50000):#判斷金額大於50000時(打八五折)\n",
        "    print(money*0.85,end=\"元\\n\")#八五折\n",
        "  elif(money>=30000):#判斷金額大於30000時(打九折)\n",
        "    print(money*0.9,end=\"元\\n\")#九折\n",
        "  else:#其他大於10000之金額30000以下時(打九五折)\n",
        "    print(money*0.95,end=\"元\\n\")#九五折\n",
        "    \n",
        "else:#未達10000金額則未打折\n",
        "  print(money,end=\"元\\n\")#未打折\n",
        "  "
      ],
      "execution_count": 0,
      "outputs": [
        {
          "output_type": "stream",
          "text": [
            "請輸入購物金額28000\n",
            "26600.0元\n"
          ],
          "name": "stdout"
        }
      ]
    }
  ]
}